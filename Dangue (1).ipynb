{
  "nbformat": 4,
  "nbformat_minor": 0,
  "metadata": {
    "kernelspec": {
      "display_name": "Python 3",
      "language": "python",
      "name": "python3"
    },
    "language_info": {
      "codemirror_mode": {
        "name": "ipython",
        "version": 3
      },
      "file_extension": ".py",
      "mimetype": "text/x-python",
      "name": "python",
      "nbconvert_exporter": "python",
      "pygments_lexer": "ipython3",
      "version": "3.7.1"
    },
    "colab": {
      "name": "Dangue.ipynb",
      "provenance": [],
      "collapsed_sections": []
    }
  },
  "cells": [
    {
      "cell_type": "code",
      "metadata": {
        "id": "xOowklP3Ijkt",
        "colab_type": "code",
        "colab": {}
      },
      "source": [
        "import numpy as np\n",
        "import pandas as pd\n",
        "import matplotlib.pyplot as plt\n",
        "import matplotlib.mlab as mlab\n",
        "import seaborn as sns\n",
        "import statsmodels.api as sm\n",
        "\n",
        "from sklearn.model_selection import train_test_split\n",
        "from sklearn.linear_model import LogisticRegression\n",
        "from sklearn import metrics\n",
        "from sklearn.metrics import classification_report\n",
        "from sklearn.metrics import confusion_matrix,accuracy_score\n",
        "from sklearn.metrics import roc_auc_score\n",
        "from sklearn.metrics import roc_curve\n",
        "\n",
        "df = pd.read_csv('E:\\dangueData.csv')"
      ],
      "execution_count": 0,
      "outputs": []
    },
    {
      "cell_type": "code",
      "metadata": {
        "id": "7JvmP4-xIjkw",
        "colab_type": "code",
        "outputId": "8b2e929a-d719-41a4-e74c-4b64a5860f58",
        "colab": {}
      },
      "source": [
        "df.head()"
      ],
      "execution_count": 0,
      "outputs": [
        {
          "output_type": "execute_result",
          "data": {
            "text/html": [
              "<div>\n",
              "<style scoped>\n",
              "    .dataframe tbody tr th:only-of-type {\n",
              "        vertical-align: middle;\n",
              "    }\n",
              "\n",
              "    .dataframe tbody tr th {\n",
              "        vertical-align: top;\n",
              "    }\n",
              "\n",
              "    .dataframe thead th {\n",
              "        text-align: right;\n",
              "    }\n",
              "</style>\n",
              "<table border=\"1\" class=\"dataframe\">\n",
              "  <thead>\n",
              "    <tr style=\"text-align: right;\">\n",
              "      <th></th>\n",
              "      <th>YEAR</th>\n",
              "      <th>MONTH</th>\n",
              "      <th>MIN</th>\n",
              "      <th>MAX</th>\n",
              "      <th>HUMIDITY</th>\n",
              "      <th>RAINFALL</th>\n",
              "      <th>DANGUE</th>\n",
              "      <th>LEVEL</th>\n",
              "    </tr>\n",
              "  </thead>\n",
              "  <tbody>\n",
              "    <tr>\n",
              "      <th>0</th>\n",
              "      <td>2008</td>\n",
              "      <td>1</td>\n",
              "      <td>12.993929</td>\n",
              "      <td>25.059539</td>\n",
              "      <td>78.824885</td>\n",
              "      <td>1.286636</td>\n",
              "      <td>0</td>\n",
              "      <td>1</td>\n",
              "    </tr>\n",
              "    <tr>\n",
              "      <th>1</th>\n",
              "      <td>2008</td>\n",
              "      <td>2</td>\n",
              "      <td>13.658286</td>\n",
              "      <td>26.383448</td>\n",
              "      <td>72.602956</td>\n",
              "      <td>0.687685</td>\n",
              "      <td>0</td>\n",
              "      <td>1</td>\n",
              "    </tr>\n",
              "    <tr>\n",
              "      <th>2</th>\n",
              "      <td>2008</td>\n",
              "      <td>3</td>\n",
              "      <td>20.411250</td>\n",
              "      <td>31.367558</td>\n",
              "      <td>76.903226</td>\n",
              "      <td>0.974194</td>\n",
              "      <td>0</td>\n",
              "      <td>1</td>\n",
              "    </tr>\n",
              "    <tr>\n",
              "      <th>3</th>\n",
              "      <td>2008</td>\n",
              "      <td>4</td>\n",
              "      <td>22.771889</td>\n",
              "      <td>34.031619</td>\n",
              "      <td>73.943810</td>\n",
              "      <td>0.980952</td>\n",
              "      <td>0</td>\n",
              "      <td>1</td>\n",
              "    </tr>\n",
              "    <tr>\n",
              "      <th>4</th>\n",
              "      <td>2008</td>\n",
              "      <td>5</td>\n",
              "      <td>23.945625</td>\n",
              "      <td>34.171060</td>\n",
              "      <td>77.360369</td>\n",
              "      <td>7.021198</td>\n",
              "      <td>0</td>\n",
              "      <td>1</td>\n",
              "    </tr>\n",
              "  </tbody>\n",
              "</table>\n",
              "</div>"
            ],
            "text/plain": [
              "   YEAR  MONTH        MIN        MAX   HUMIDITY  RAINFALL  DANGUE  LEVEL\n",
              "0  2008      1  12.993929  25.059539  78.824885  1.286636       0      1\n",
              "1  2008      2  13.658286  26.383448  72.602956  0.687685       0      1\n",
              "2  2008      3  20.411250  31.367558  76.903226  0.974194       0      1\n",
              "3  2008      4  22.771889  34.031619  73.943810  0.980952       0      1\n",
              "4  2008      5  23.945625  34.171060  77.360369  7.021198       0      1"
            ]
          },
          "metadata": {
            "tags": []
          },
          "execution_count": 2
        }
      ]
    },
    {
      "cell_type": "code",
      "metadata": {
        "id": "37NNqujjIjkz",
        "colab_type": "code",
        "colab": {}
      },
      "source": [
        "x = df[['MONTH','YEAR','HUMIDITY', 'MIN', 'RAINFALL', 'MAX']]\n",
        "y = df['LEVEL']"
      ],
      "execution_count": 0,
      "outputs": []
    },
    {
      "cell_type": "code",
      "metadata": {
        "id": "KtE9W8wAIjk1",
        "colab_type": "code",
        "outputId": "816e1b42-cf18-4004-f21e-b7bbfd8b87ce",
        "colab": {}
      },
      "source": [
        "df.corr()"
      ],
      "execution_count": 0,
      "outputs": [
        {
          "output_type": "execute_result",
          "data": {
            "text/html": [
              "<div>\n",
              "<style scoped>\n",
              "    .dataframe tbody tr th:only-of-type {\n",
              "        vertical-align: middle;\n",
              "    }\n",
              "\n",
              "    .dataframe tbody tr th {\n",
              "        vertical-align: top;\n",
              "    }\n",
              "\n",
              "    .dataframe thead th {\n",
              "        text-align: right;\n",
              "    }\n",
              "</style>\n",
              "<table border=\"1\" class=\"dataframe\">\n",
              "  <thead>\n",
              "    <tr style=\"text-align: right;\">\n",
              "      <th></th>\n",
              "      <th>YEAR</th>\n",
              "      <th>MONTH</th>\n",
              "      <th>MIN</th>\n",
              "      <th>MAX</th>\n",
              "      <th>HUMIDITY</th>\n",
              "      <th>RAINFALL</th>\n",
              "      <th>DANGUE</th>\n",
              "      <th>LEVEL</th>\n",
              "    </tr>\n",
              "  </thead>\n",
              "  <tbody>\n",
              "    <tr>\n",
              "      <th>YEAR</th>\n",
              "      <td>1.000000</td>\n",
              "      <td>-0.039341</td>\n",
              "      <td>-0.026401</td>\n",
              "      <td>-0.042889</td>\n",
              "      <td>0.008876</td>\n",
              "      <td>0.335181</td>\n",
              "      <td>0.372338</td>\n",
              "      <td>0.465797</td>\n",
              "    </tr>\n",
              "    <tr>\n",
              "      <th>MONTH</th>\n",
              "      <td>-0.039341</td>\n",
              "      <td>1.000000</td>\n",
              "      <td>0.273338</td>\n",
              "      <td>0.084662</td>\n",
              "      <td>0.530021</td>\n",
              "      <td>0.021895</td>\n",
              "      <td>0.316265</td>\n",
              "      <td>0.443394</td>\n",
              "    </tr>\n",
              "    <tr>\n",
              "      <th>MIN</th>\n",
              "      <td>-0.026401</td>\n",
              "      <td>0.273338</td>\n",
              "      <td>1.000000</td>\n",
              "      <td>0.879903</td>\n",
              "      <td>0.502352</td>\n",
              "      <td>0.231499</td>\n",
              "      <td>0.301316</td>\n",
              "      <td>0.414593</td>\n",
              "    </tr>\n",
              "    <tr>\n",
              "      <th>MAX</th>\n",
              "      <td>-0.042889</td>\n",
              "      <td>0.084662</td>\n",
              "      <td>0.879903</td>\n",
              "      <td>1.000000</td>\n",
              "      <td>0.087856</td>\n",
              "      <td>0.064593</td>\n",
              "      <td>0.177811</td>\n",
              "      <td>0.221934</td>\n",
              "    </tr>\n",
              "    <tr>\n",
              "      <th>HUMIDITY</th>\n",
              "      <td>0.008876</td>\n",
              "      <td>0.530021</td>\n",
              "      <td>0.502352</td>\n",
              "      <td>0.087856</td>\n",
              "      <td>1.000000</td>\n",
              "      <td>0.094968</td>\n",
              "      <td>0.275363</td>\n",
              "      <td>0.482472</td>\n",
              "    </tr>\n",
              "    <tr>\n",
              "      <th>RAINFALL</th>\n",
              "      <td>0.335181</td>\n",
              "      <td>0.021895</td>\n",
              "      <td>0.231499</td>\n",
              "      <td>0.064593</td>\n",
              "      <td>0.094968</td>\n",
              "      <td>1.000000</td>\n",
              "      <td>0.368675</td>\n",
              "      <td>0.322285</td>\n",
              "    </tr>\n",
              "    <tr>\n",
              "      <th>DANGUE</th>\n",
              "      <td>0.372338</td>\n",
              "      <td>0.316265</td>\n",
              "      <td>0.301316</td>\n",
              "      <td>0.177811</td>\n",
              "      <td>0.275363</td>\n",
              "      <td>0.368675</td>\n",
              "      <td>1.000000</td>\n",
              "      <td>0.862293</td>\n",
              "    </tr>\n",
              "    <tr>\n",
              "      <th>LEVEL</th>\n",
              "      <td>0.465797</td>\n",
              "      <td>0.443394</td>\n",
              "      <td>0.414593</td>\n",
              "      <td>0.221934</td>\n",
              "      <td>0.482472</td>\n",
              "      <td>0.322285</td>\n",
              "      <td>0.862293</td>\n",
              "      <td>1.000000</td>\n",
              "    </tr>\n",
              "  </tbody>\n",
              "</table>\n",
              "</div>"
            ],
            "text/plain": [
              "              YEAR     MONTH       MIN       MAX  HUMIDITY  RAINFALL  \\\n",
              "YEAR      1.000000 -0.039341 -0.026401 -0.042889  0.008876  0.335181   \n",
              "MONTH    -0.039341  1.000000  0.273338  0.084662  0.530021  0.021895   \n",
              "MIN      -0.026401  0.273338  1.000000  0.879903  0.502352  0.231499   \n",
              "MAX      -0.042889  0.084662  0.879903  1.000000  0.087856  0.064593   \n",
              "HUMIDITY  0.008876  0.530021  0.502352  0.087856  1.000000  0.094968   \n",
              "RAINFALL  0.335181  0.021895  0.231499  0.064593  0.094968  1.000000   \n",
              "DANGUE    0.372338  0.316265  0.301316  0.177811  0.275363  0.368675   \n",
              "LEVEL     0.465797  0.443394  0.414593  0.221934  0.482472  0.322285   \n",
              "\n",
              "            DANGUE     LEVEL  \n",
              "YEAR      0.372338  0.465797  \n",
              "MONTH     0.316265  0.443394  \n",
              "MIN       0.301316  0.414593  \n",
              "MAX       0.177811  0.221934  \n",
              "HUMIDITY  0.275363  0.482472  \n",
              "RAINFALL  0.368675  0.322285  \n",
              "DANGUE    1.000000  0.862293  \n",
              "LEVEL     0.862293  1.000000  "
            ]
          },
          "metadata": {
            "tags": []
          },
          "execution_count": 5
        }
      ]
    },
    {
      "cell_type": "code",
      "metadata": {
        "id": "0eznLEWPIjk4",
        "colab_type": "code",
        "outputId": "3c01da14-4785-4802-b67a-f93f05e0ff35",
        "colab": {}
      },
      "source": [
        "df.info()"
      ],
      "execution_count": 0,
      "outputs": [
        {
          "output_type": "stream",
          "text": [
            "<class 'pandas.core.frame.DataFrame'>\n",
            "RangeIndex: 134 entries, 0 to 133\n",
            "Data columns (total 8 columns):\n",
            "YEAR        134 non-null int64\n",
            "MONTH       134 non-null int64\n",
            "MIN         134 non-null float64\n",
            "MAX         134 non-null float64\n",
            "HUMIDITY    134 non-null float64\n",
            "RAINFALL    134 non-null float64\n",
            "DANGUE      134 non-null int64\n",
            "LEVEL       134 non-null int64\n",
            "dtypes: float64(4), int64(4)\n",
            "memory usage: 8.5 KB\n"
          ],
          "name": "stdout"
        }
      ]
    },
    {
      "cell_type": "code",
      "metadata": {
        "id": "cQ1Pg-_ZIjk6",
        "colab_type": "code",
        "outputId": "d93bda1e-ed2e-4e1b-c2f8-afdfc973fe7e",
        "colab": {}
      },
      "source": [
        "#logistic regression\n",
        "x_train, x_test, y_train, y_test = train_test_split(x, y, test_size=0.20, random_state=2)\n",
        "logreg = LogisticRegression()\n",
        "logreg.fit(x_train, y_train)"
      ],
      "execution_count": 0,
      "outputs": [
        {
          "output_type": "stream",
          "text": [
            "C:\\Users\\FAZLY\\AppData\\Local\\Continuum\\anaconda3\\lib\\site-packages\\sklearn\\linear_model\\logistic.py:433: FutureWarning: Default solver will be changed to 'lbfgs' in 0.22. Specify a solver to silence this warning.\n",
            "  FutureWarning)\n",
            "C:\\Users\\FAZLY\\AppData\\Local\\Continuum\\anaconda3\\lib\\site-packages\\sklearn\\linear_model\\logistic.py:460: FutureWarning: Default multi_class will be changed to 'auto' in 0.22. Specify the multi_class option to silence this warning.\n",
            "  \"this warning.\", FutureWarning)\n"
          ],
          "name": "stderr"
        },
        {
          "output_type": "execute_result",
          "data": {
            "text/plain": [
              "LogisticRegression(C=1.0, class_weight=None, dual=False, fit_intercept=True,\n",
              "          intercept_scaling=1, max_iter=100, multi_class='warn',\n",
              "          n_jobs=None, penalty='l2', random_state=None, solver='warn',\n",
              "          tol=0.0001, verbose=0, warm_start=False)"
            ]
          },
          "metadata": {
            "tags": []
          },
          "execution_count": 7
        }
      ]
    },
    {
      "cell_type": "code",
      "metadata": {
        "id": "WVKRKsiGIjk9",
        "colab_type": "code",
        "outputId": "dccefbe7-050f-4645-a453-ed985619d45e",
        "colab": {}
      },
      "source": [
        "#logistic regression performance \n",
        "print('Coefficients:', logreg.coef_)\n",
        "print('Intercept:', logreg.intercept_)\n",
        " \n",
        "predictions = logreg.predict(x_test)\n",
        "print('Classification Report:\\n',classification_report(y_test, predictions))\n",
        "\n",
        "print('Confusion Matrix:\\n',confusion_matrix(y_test, predictions))\n",
        "print('Accuracy Score:',accuracy_score(y_test, predictions))\n",
        "\n",
        "\n",
        "print(\"Precision:\",metrics.precision_score(y_test, predictions,average='micro'))\n",
        "print(\"Recall:\",metrics.recall_score(y_test,predictions,average='micro' ))"
      ],
      "execution_count": 0,
      "outputs": [
        {
          "output_type": "stream",
          "text": [
            "Coefficients: [[ 3.70054200e-02  6.27485999e-03 -1.97104935e-01  4.56529357e-03\n",
            "  -9.18715864e-02  6.89120425e-02]\n",
            " [-2.43607809e-01 -3.05523618e-03  1.12360365e-01 -1.73913139e-01\n",
            "  -8.47290408e-04  6.09618824e-02]\n",
            " [ 2.16928396e-01 -3.32894483e-03  7.40671690e-02  2.37733972e-01\n",
            "  -6.11414364e-04 -2.47988534e-01]\n",
            " [ 9.60238854e-01 -2.60374904e-02  4.33928855e-01  4.65008931e-01\n",
            "  -1.37366915e-02 -1.69155313e-01]\n",
            " [ 5.09313616e-01 -1.46427375e-02  1.10097875e-01  6.89089145e-02\n",
            "   4.36300719e-03  3.74118144e-01]\n",
            " [ 1.25257444e+00 -3.44553555e-03 -4.57885063e-01  9.04977132e-01\n",
            "   5.53531284e-03  2.75129043e-01]]\n",
            "Intercept: [ 1.22208627e-03 -2.96896671e-03  6.10788908e-05 -2.90762967e-03\n",
            " -5.94417224e-03 -3.38067193e-03]\n",
            "Classification Report:\n",
            "               precision    recall  f1-score   support\n",
            "\n",
            "           1       0.33      0.25      0.29        12\n",
            "           2       0.40      0.60      0.48        10\n",
            "           3       1.00      0.50      0.67         4\n",
            "           4       0.00      0.00      0.00         1\n",
            "\n",
            "   micro avg       0.41      0.41      0.41        27\n",
            "   macro avg       0.43      0.34      0.36        27\n",
            "weighted avg       0.44      0.41      0.40        27\n",
            "\n",
            "Confusion Matrix:\n",
            " [[3 9 0 0]\n",
            " [4 6 0 0]\n",
            " [1 0 2 1]\n",
            " [1 0 0 0]]\n",
            "Accuracy Score: 0.4074074074074074\n",
            "Precision: 0.4074074074074074\n",
            "Recall: 0.4074074074074074\n"
          ],
          "name": "stdout"
        }
      ]
    },
    {
      "cell_type": "code",
      "metadata": {
        "id": "MbnwA5LgIjk_",
        "colab_type": "code",
        "colab": {}
      },
      "source": [
        "#Classification Tree\n",
        "from sklearn import tree\n",
        "from sklearn.model_selection import train_test_split\n",
        "from sklearn.metrics import accuracy_score\n",
        "from sklearn.metrics import classification_report, accuracy_score\n",
        "import graphviz\n",
        "\n",
        "clf = tree.DecisionTreeClassifier(max_depth=3)\n",
        "clf = clf.fit(x_train, y_train)"
      ],
      "execution_count": 0,
      "outputs": []
    },
    {
      "cell_type": "code",
      "metadata": {
        "id": "4dTKI6nOIjlB",
        "colab_type": "code",
        "outputId": "bf600219-f140-47cc-e38e-9ccb59ceeeb9",
        "colab": {}
      },
      "source": [
        "#Classification Tree performance\n",
        "y_pred = clf.predict(x_test)\n",
        "print(classification_report(y_test, y_pred))\n",
        "print('\\nAccuracy: {0:.4f}'.format(accuracy_score(y_test, y_pred)))\n",
        "predictions = clf.predict(x_test)\n",
        "print('Confusion Matrix:\\n',confusion_matrix(y_test, predictions))"
      ],
      "execution_count": 0,
      "outputs": [
        {
          "output_type": "stream",
          "text": [
            "              precision    recall  f1-score   support\n",
            "\n",
            "           1       1.00      0.83      0.91        12\n",
            "           2       0.91      1.00      0.95        10\n",
            "           3       0.67      1.00      0.80         4\n",
            "           4       0.00      0.00      0.00         1\n",
            "\n",
            "   micro avg       0.89      0.89      0.89        27\n",
            "   macro avg       0.64      0.71      0.67        27\n",
            "weighted avg       0.88      0.89      0.88        27\n",
            "\n",
            "\n",
            "Accuracy: 0.8889\n",
            "Confusion Matrix:\n",
            " [[10  1  1  0]\n",
            " [ 0 10  0  0]\n",
            " [ 0  0  4  0]\n",
            " [ 0  0  1  0]]\n"
          ],
          "name": "stdout"
        },
        {
          "output_type": "stream",
          "text": [
            "C:\\Users\\FAZLY\\AppData\\Local\\Continuum\\anaconda3\\lib\\site-packages\\sklearn\\metrics\\classification.py:1143: UndefinedMetricWarning: Precision and F-score are ill-defined and being set to 0.0 in labels with no predicted samples.\n",
            "  'precision', 'predicted', average, warn_for)\n",
            "C:\\Users\\FAZLY\\AppData\\Local\\Continuum\\anaconda3\\lib\\site-packages\\sklearn\\metrics\\classification.py:1143: UndefinedMetricWarning: Precision and F-score are ill-defined and being set to 0.0 in labels with no predicted samples.\n",
            "  'precision', 'predicted', average, warn_for)\n",
            "C:\\Users\\FAZLY\\AppData\\Local\\Continuum\\anaconda3\\lib\\site-packages\\sklearn\\metrics\\classification.py:1143: UndefinedMetricWarning: Precision and F-score are ill-defined and being set to 0.0 in labels with no predicted samples.\n",
            "  'precision', 'predicted', average, warn_for)\n"
          ],
          "name": "stderr"
        }
      ]
    },
    {
      "cell_type": "code",
      "metadata": {
        "id": "kK0bG88AIjlD",
        "colab_type": "code",
        "outputId": "f99eb6fa-34aa-4ae8-aab1-96ff82bd20ee",
        "colab": {}
      },
      "source": [
        "#Random Forest\n",
        "from sklearn.ensemble import RandomForestClassifier\n",
        "rf = RandomForestClassifier(n_estimators=100, max_depth=4, random_state=3)\n",
        "rf.fit(x_train, y_train)"
      ],
      "execution_count": 0,
      "outputs": [
        {
          "output_type": "execute_result",
          "data": {
            "text/plain": [
              "RandomForestClassifier(bootstrap=True, class_weight=None, criterion='gini',\n",
              "            max_depth=4, max_features='auto', max_leaf_nodes=None,\n",
              "            min_impurity_decrease=0.0, min_impurity_split=None,\n",
              "            min_samples_leaf=1, min_samples_split=2,\n",
              "            min_weight_fraction_leaf=0.0, n_estimators=100, n_jobs=None,\n",
              "            oob_score=False, random_state=3, verbose=0, warm_start=False)"
            ]
          },
          "metadata": {
            "tags": []
          },
          "execution_count": 11
        }
      ]
    },
    {
      "cell_type": "code",
      "metadata": {
        "id": "YF8besVXIjlG",
        "colab_type": "code",
        "outputId": "ccb29c3f-463f-4444-8e1f-7bc1ce681b31",
        "colab": {}
      },
      "source": [
        "#Random forest performance\n",
        "y_pred = rf.predict(x_test)\n",
        "print(classification_report(y_test, y_pred))\n",
        "print('\\nAccuracy: {0:.4f}'.format(accuracy_score(y_test, y_pred)))\n",
        "\n",
        "print('Confusion Matrix:\\n',confusion_matrix(y_test, y_pred))"
      ],
      "execution_count": 0,
      "outputs": [
        {
          "output_type": "stream",
          "text": [
            "              precision    recall  f1-score   support\n",
            "\n",
            "           1       1.00      0.83      0.91        12\n",
            "           2       0.71      1.00      0.83        10\n",
            "           3       1.00      0.75      0.86         4\n",
            "           4       0.00      0.00      0.00         1\n",
            "\n",
            "   micro avg       0.85      0.85      0.85        27\n",
            "   macro avg       0.68      0.65      0.65        27\n",
            "weighted avg       0.86      0.85      0.84        27\n",
            "\n",
            "\n",
            "Accuracy: 0.8519\n",
            "Confusion Matrix:\n",
            " [[10  2  0  0]\n",
            " [ 0 10  0  0]\n",
            " [ 0  1  3  0]\n",
            " [ 0  1  0  0]]\n"
          ],
          "name": "stdout"
        },
        {
          "output_type": "stream",
          "text": [
            "C:\\Users\\FAZLY\\AppData\\Local\\Continuum\\anaconda3\\lib\\site-packages\\sklearn\\metrics\\classification.py:1143: UndefinedMetricWarning: Precision and F-score are ill-defined and being set to 0.0 in labels with no predicted samples.\n",
            "  'precision', 'predicted', average, warn_for)\n",
            "C:\\Users\\FAZLY\\AppData\\Local\\Continuum\\anaconda3\\lib\\site-packages\\sklearn\\metrics\\classification.py:1143: UndefinedMetricWarning: Precision and F-score are ill-defined and being set to 0.0 in labels with no predicted samples.\n",
            "  'precision', 'predicted', average, warn_for)\n",
            "C:\\Users\\FAZLY\\AppData\\Local\\Continuum\\anaconda3\\lib\\site-packages\\sklearn\\metrics\\classification.py:1143: UndefinedMetricWarning: Precision and F-score are ill-defined and being set to 0.0 in labels with no predicted samples.\n",
            "  'precision', 'predicted', average, warn_for)\n"
          ],
          "name": "stderr"
        }
      ]
    },
    {
      "cell_type": "code",
      "metadata": {
        "id": "aWmmsHncIjlI",
        "colab_type": "code",
        "outputId": "e20e743d-4117-4102-95ed-95057c8a88f1",
        "colab": {}
      },
      "source": [
        "#Support Vector Machine \n",
        "from sklearn.svm import SVC\n",
        "svmmdl=SVC()\n",
        "svmmdl.fit(x_train, y_train)"
      ],
      "execution_count": 0,
      "outputs": [
        {
          "output_type": "stream",
          "text": [
            "C:\\Users\\FAZLY\\AppData\\Local\\Continuum\\anaconda3\\lib\\site-packages\\sklearn\\svm\\base.py:196: FutureWarning: The default value of gamma will change from 'auto' to 'scale' in version 0.22 to account better for unscaled features. Set gamma explicitly to 'auto' or 'scale' to avoid this warning.\n",
            "  \"avoid this warning.\", FutureWarning)\n"
          ],
          "name": "stderr"
        },
        {
          "output_type": "execute_result",
          "data": {
            "text/plain": [
              "SVC(C=1.0, cache_size=200, class_weight=None, coef0=0.0,\n",
              "  decision_function_shape='ovr', degree=3, gamma='auto_deprecated',\n",
              "  kernel='rbf', max_iter=-1, probability=False, random_state=None,\n",
              "  shrinking=True, tol=0.001, verbose=False)"
            ]
          },
          "metadata": {
            "tags": []
          },
          "execution_count": 13
        }
      ]
    },
    {
      "cell_type": "code",
      "metadata": {
        "id": "YBgEu6lxIjlK",
        "colab_type": "code",
        "outputId": "28ff0716-24be-4dbe-f504-0ee82747377e",
        "colab": {}
      },
      "source": [
        "#Support Vector Machine \n",
        "y_pred=svmmdl.predict(x_test)\n",
        "print(classification_report(y_test, y_pred))\n",
        "print('\\nAccuracy: {0:.4f}'.format(accuracy_score(y_test, y_pred)))\n",
        "print(confusion_matrix(y_test,y_pred))"
      ],
      "execution_count": 0,
      "outputs": [
        {
          "output_type": "stream",
          "text": [
            "              precision    recall  f1-score   support\n",
            "\n",
            "           1       0.80      0.33      0.47        12\n",
            "           2       0.38      0.80      0.52        10\n",
            "           3       0.00      0.00      0.00         4\n",
            "           4       0.00      0.00      0.00         1\n",
            "\n",
            "   micro avg       0.44      0.44      0.44        27\n",
            "   macro avg       0.30      0.28      0.25        27\n",
            "weighted avg       0.50      0.44      0.40        27\n",
            "\n",
            "\n",
            "Accuracy: 0.4444\n",
            "[[4 8 0 0]\n",
            " [1 8 1 0]\n",
            " [0 4 0 0]\n",
            " [0 1 0 0]]\n"
          ],
          "name": "stdout"
        },
        {
          "output_type": "stream",
          "text": [
            "C:\\Users\\FAZLY\\AppData\\Local\\Continuum\\anaconda3\\lib\\site-packages\\sklearn\\metrics\\classification.py:1143: UndefinedMetricWarning: Precision and F-score are ill-defined and being set to 0.0 in labels with no predicted samples.\n",
            "  'precision', 'predicted', average, warn_for)\n",
            "C:\\Users\\FAZLY\\AppData\\Local\\Continuum\\anaconda3\\lib\\site-packages\\sklearn\\metrics\\classification.py:1143: UndefinedMetricWarning: Precision and F-score are ill-defined and being set to 0.0 in labels with no predicted samples.\n",
            "  'precision', 'predicted', average, warn_for)\n",
            "C:\\Users\\FAZLY\\AppData\\Local\\Continuum\\anaconda3\\lib\\site-packages\\sklearn\\metrics\\classification.py:1143: UndefinedMetricWarning: Precision and F-score are ill-defined and being set to 0.0 in labels with no predicted samples.\n",
            "  'precision', 'predicted', average, warn_for)\n"
          ],
          "name": "stderr"
        }
      ]
    },
    {
      "cell_type": "code",
      "metadata": {
        "id": "8Jh44OsGIjlM",
        "colab_type": "code",
        "outputId": "fc36325d-87e4-43f5-ad0d-ebbcdcd7cc76",
        "colab": {}
      },
      "source": [
        "x = df[['MONTH','YEAR','HUMIDITY', 'MIN', 'RAINFALL', 'MAX']]\n",
        "y = df['LEVEL']\n",
        "from sklearn.linear_model import LinearRegression\n",
        "x_train, x_test, y_train, y_test = train_test_split(x, y, test_size=0.20, random_state=2)\n",
        "linreg = LinearRegression()\n",
        "linreg.fit(x_train, y_train)"
      ],
      "execution_count": 0,
      "outputs": [
        {
          "output_type": "execute_result",
          "data": {
            "text/plain": [
              "LinearRegression(copy_X=True, fit_intercept=True, n_jobs=None,\n",
              "         normalize=False)"
            ]
          },
          "metadata": {
            "tags": []
          },
          "execution_count": 16
        }
      ]
    },
    {
      "cell_type": "code",
      "metadata": {
        "id": "jB_ksLXOIjlO",
        "colab_type": "code",
        "outputId": "986f8e38-02c7-4007-fdb2-6a46e1d60161",
        "colab": {}
      },
      "source": [
        "y_pred = linreg.predict(x_test)\n",
        "print('Coefficients:', linreg.coef_)\n",
        "print('Intercept:', linreg.intercept_)\n",
        "print('MAE:', metrics.mean_absolute_error(y_test, y_pred ))\n",
        "print('MSE:', metrics.mean_squared_error(y_test, y_pred ))\n",
        "print('RMSE:', np.sqrt(metrics.mean_squared_error(y_test, y_pred )))\n",
        "accuracy = linreg.score(x_test,y_test)\n",
        "print('AccuracyII:',accuracy*100,'%')"
      ],
      "execution_count": 0,
      "outputs": [
        {
          "output_type": "stream",
          "text": [
            "Coefficients: [ 0.13426258  0.21285031  0.04909226  0.08768993  0.00122989 -0.00367424]\n",
            "Intercept: -432.6681384586335\n",
            "MAE: 0.5939561242717075\n",
            "MSE: 0.4881846274429147\n",
            "RMSE: 0.6987021020742064\n",
            "AccuracyII: 29.387580673435544 %\n"
          ],
          "name": "stdout"
        }
      ]
    },
    {
      "cell_type": "code",
      "metadata": {
        "id": "gptMgd1lIjlQ",
        "colab_type": "code",
        "outputId": "d7c56061-1f1d-47ae-c424-a8c87d5b87ba",
        "colab": {}
      },
      "source": [
        "df2 = pd.DataFrame({'Actual': y_test, 'Predicted': y_pred})\n",
        "df2.plot(kind='bar',figsize=(60,10))\n",
        "plt.grid(which='major', linestyle='-', linewidth='0.5', color='green')\n",
        "plt.grid(which='minor', linestyle=':', linewidth='0.5', color='black')\n",
        "plt.show()"
      ],
      "execution_count": 0,
      "outputs": [
        {
          "output_type": "display_data",
          "data": {
            "image/png": "[encoded data removed]",
            "text/plain": [
              "<Figure size 4320x720 with 1 Axes>"
            ]
          },
          "metadata": {
            "tags": [],
            "needs_background": "light"
          }
        }
      ]
    },
    {
      "cell_type": "code",
      "metadata": {
        "id": "kkUVFl_8IjlS",
        "colab_type": "code",
        "outputId": "aa0d19a7-2b7f-41fe-8a81-9000ecf15d41",
        "colab": {}
      },
      "source": [
        "\n",
        "from sklearn.preprocessing import MinMaxScaler\n",
        "\n",
        "X = df.iloc[:, [0, 5]]\n",
        "y = df.iloc[:, 7]\n",
        "scaler = MinMaxScaler(feature_range=(0, 1))\n",
        "X = scaler.fit_transform(X)\n",
        "\n",
        "\n",
        "LoGscores = []\n",
        "DTscores = []\n",
        "RFscores = []\n",
        "SVscores = []\n",
        "\n",
        "\n",
        "############### DT ###########################################\n",
        "from sklearn.linear_model import LogisticRegression\n",
        "logreg = LogisticRegression()\n",
        "############### DT ###########################################\n",
        "from sklearn import tree\n",
        "DTclf=tree.DecisionTreeClassifier()\n",
        "\n",
        "############### RF ############################################\n",
        "from sklearn.ensemble import RandomForestClassifier\n",
        "RFclf=RandomForestClassifier(n_estimators=11)\n",
        "\n",
        "######################### SVM ##################################\n",
        "from sklearn.svm import SVC\n",
        "SVclf = SVC(kernel='poly', degree=4)\n",
        "\n",
        "from sklearn.model_selection import KFold\n",
        "cv = KFold(n_splits=5, random_state=2, shuffle=True)\n",
        "for train_index, test_index in cv.split(X):\n",
        "    print(\"Train Index: \", train_index, \"\\n\")\n",
        "    print(\"Test Index: \", test_index)\n",
        "\n",
        "    X_train, X_test, y_train, y_test = X[train_index], X[test_index], y[train_index], y[test_index]\n",
        "\n",
        "    ############# for LoG #################\n",
        "    logreg.fit(X_train, y_train)\n",
        "    LoGscores.append(logreg.score(X_test, y_test))\n",
        "    ############# for DT #################\n",
        "    DTclf.fit(X_train, y_train)\n",
        "    DTscores.append(DTclf.score(X_test, y_test))\n",
        "    ############# for RF #################\n",
        "    RFclf.fit(X_train, y_train)\n",
        "    RFscores.append(RFclf.score(X_test, y_test))\n",
        "    ############# For SVM #################\n",
        "    SVclf.fit(X_train, y_train)\n",
        "    SVscores.append(SVclf.score(X_test, y_test))\n",
        "    \n",
        "\n",
        "\n",
        "import numpy as np\n",
        "print('Logistic Reg.  scores:', np.mean(LoGscores))\n",
        "print('Decision Tree scores:', np.mean(DTscores))\n",
        "print('Random Forest scores:', np.mean(RFscores))\n",
        "print('SVM scores:', np.mean(SVscores))"
      ],
      "execution_count": 0,
      "outputs": [
        {
          "output_type": "stream",
          "text": [
            "C:\\Users\\FAZLY\\AppData\\Local\\Continuum\\anaconda3\\lib\\site-packages\\sklearn\\preprocessing\\data.py:323: DataConversionWarning: Data with input dtype int64, float64 were all converted to float64 by MinMaxScaler.\n",
            "  return self.partial_fit(X, y)\n",
            "C:\\Users\\FAZLY\\AppData\\Local\\Continuum\\anaconda3\\lib\\site-packages\\sklearn\\linear_model\\logistic.py:433: FutureWarning: Default solver will be changed to 'lbfgs' in 0.22. Specify a solver to silence this warning.\n",
            "  FutureWarning)\n",
            "C:\\Users\\FAZLY\\AppData\\Local\\Continuum\\anaconda3\\lib\\site-packages\\sklearn\\linear_model\\logistic.py:460: FutureWarning: Default multi_class will be changed to 'auto' in 0.22. Specify the multi_class option to silence this warning.\n",
            "  \"this warning.\", FutureWarning)\n",
            "C:\\Users\\FAZLY\\AppData\\Local\\Continuum\\anaconda3\\lib\\site-packages\\sklearn\\svm\\base.py:196: FutureWarning: The default value of gamma will change from 'auto' to 'scale' in version 0.22 to account better for unscaled features. Set gamma explicitly to 'auto' or 'scale' to avoid this warning.\n",
            "  \"avoid this warning.\", FutureWarning)\n",
            "C:\\Users\\FAZLY\\AppData\\Local\\Continuum\\anaconda3\\lib\\site-packages\\sklearn\\linear_model\\logistic.py:433: FutureWarning: Default solver will be changed to 'lbfgs' in 0.22. Specify a solver to silence this warning.\n",
            "  FutureWarning)\n",
            "C:\\Users\\FAZLY\\AppData\\Local\\Continuum\\anaconda3\\lib\\site-packages\\sklearn\\linear_model\\logistic.py:460: FutureWarning: Default multi_class will be changed to 'auto' in 0.22. Specify the multi_class option to silence this warning.\n",
            "  \"this warning.\", FutureWarning)\n",
            "C:\\Users\\FAZLY\\AppData\\Local\\Continuum\\anaconda3\\lib\\site-packages\\sklearn\\svm\\base.py:196: FutureWarning: The default value of gamma will change from 'auto' to 'scale' in version 0.22 to account better for unscaled features. Set gamma explicitly to 'auto' or 'scale' to avoid this warning.\n",
            "  \"avoid this warning.\", FutureWarning)\n",
            "C:\\Users\\FAZLY\\AppData\\Local\\Continuum\\anaconda3\\lib\\site-packages\\sklearn\\linear_model\\logistic.py:433: FutureWarning: Default solver will be changed to 'lbfgs' in 0.22. Specify a solver to silence this warning.\n",
            "  FutureWarning)\n",
            "C:\\Users\\FAZLY\\AppData\\Local\\Continuum\\anaconda3\\lib\\site-packages\\sklearn\\linear_model\\logistic.py:460: FutureWarning: Default multi_class will be changed to 'auto' in 0.22. Specify the multi_class option to silence this warning.\n",
            "  \"this warning.\", FutureWarning)\n",
            "C:\\Users\\FAZLY\\AppData\\Local\\Continuum\\anaconda3\\lib\\site-packages\\sklearn\\svm\\base.py:196: FutureWarning: The default value of gamma will change from 'auto' to 'scale' in version 0.22 to account better for unscaled features. Set gamma explicitly to 'auto' or 'scale' to avoid this warning.\n",
            "  \"avoid this warning.\", FutureWarning)\n",
            "C:\\Users\\FAZLY\\AppData\\Local\\Continuum\\anaconda3\\lib\\site-packages\\sklearn\\linear_model\\logistic.py:433: FutureWarning: Default solver will be changed to 'lbfgs' in 0.22. Specify a solver to silence this warning.\n",
            "  FutureWarning)\n",
            "C:\\Users\\FAZLY\\AppData\\Local\\Continuum\\anaconda3\\lib\\site-packages\\sklearn\\linear_model\\logistic.py:460: FutureWarning: Default multi_class will be changed to 'auto' in 0.22. Specify the multi_class option to silence this warning.\n",
            "  \"this warning.\", FutureWarning)\n"
          ],
          "name": "stderr"
        },
        {
          "output_type": "stream",
          "text": [
            "Train Index:  [  1   4   6   7   8   9  10  11  13  15  16  17  18  19  20  21  22  23\n",
            "  26  27  29  30  31  32  33  34  35  37  38  39  40  41  42  43  45  46\n",
            "  47  49  50  51  52  53  56  57  58  59  60  62  63  64  66  67  68  69\n",
            "  70  71  72  73  74  75  76  77  78  79  80  81  83  85  87  88  89  90\n",
            "  91  92  93  95  96  98  99 100 101 102 103 104 105 107 111 112 113 114\n",
            " 115 116 117 118 119 120 121 124 125 126 127 128 129 130 131 132 133] \n",
            "\n",
            "Test Index:  [  0   2   3   5  12  14  24  25  28  36  44  48  54  55  61  65  82  84\n",
            "  86  94  97 106 108 109 110 122 123]\n",
            "Train Index:  [  0   1   2   3   4   5   6   7   8   9  10  12  14  15  17  18  19  20\n",
            "  22  24  25  26  28  31  32  33  34  36  37  38  39  40  42  43  44  46\n",
            "  47  48  49  50  51  52  54  55  56  57  58  60  61  62  63  65  66  67\n",
            "  68  69  70  72  73  75  76  79  80  82  83  84  85  86  87  88  89  90\n",
            "  91  93  94  95  96  97  99 101 102 103 104 105 106 107 108 109 110 111\n",
            " 112 113 114 115 116 118 119 120 122 123 124 125 126 129 130 131 133] \n",
            "\n",
            "Test Index:  [ 11  13  16  21  23  27  29  30  35  41  45  53  59  64  71  74  77  78\n",
            "  81  92  98 100 117 121 127 128 132]\n",
            "Train Index:  [  0   2   3   4   5   7   8  11  12  13  14  15  16  20  21  22  23  24\n",
            "  25  27  28  29  30  31  33  34  35  36  37  38  39  41  42  43  44  45\n",
            "  46  47  48  49  50  51  52  53  54  55  58  59  61  63  64  65  66  67\n",
            "  68  69  70  71  72  74  75  76  77  78  79  80  81  82  83  84  85  86\n",
            "  88  90  92  94  95  97  98  99 100 102 103 104 106 107 108 109 110 111\n",
            " 113 114 116 117 118 119 120 121 122 123 124 125 127 128 129 132 133] \n",
            "\n",
            "Test Index:  [  1   6   9  10  17  18  19  26  32  40  56  57  60  62  73  87  89  91\n",
            "  93  96 101 105 112 115 126 130 131]\n",
            "Train Index:  [  0   1   2   3   4   5   6   7   9  10  11  12  13  14  15  16  17  18\n",
            "  19  20  21  22  23  24  25  26  27  28  29  30  31  32  34  35  36  37\n",
            "  39  40  41  42  43  44  45  47  48  49  51  53  54  55  56  57  59  60\n",
            "  61  62  63  64  65  67  71  72  73  74  75  77  78  81  82  84  85  86\n",
            "  87  89  90  91  92  93  94  95  96  97  98 100 101 102 104 105 106 107\n",
            " 108 109 110 112 115 116 117 121 122 123 126 127 128 129 130 131 132] \n",
            "\n",
            "Test Index:  [  8  33  38  46  50  52  58  66  68  69  70  76  79  80  83  88  99 103\n",
            " 111 113 114 118 119 120 124 125 133]\n",
            "Train Index:  [  0   1   2   3   5   6   8   9  10  11  12  13  14  16  17  18  19  21\n",
            "  23  24  25  26  27  28  29  30  32  33  35  36  38  40  41  44  45  46\n",
            "  48  50  52  53  54  55  56  57  58  59  60  61  62  64  65  66  68  69\n",
            "  70  71  73  74  76  77  78  79  80  81  82  83  84  86  87  88  89  91\n",
            "  92  93  94  96  97  98  99 100 101 103 105 106 108 109 110 111 112 113\n",
            " 114 115 117 118 119 120 121 122 123 124 125 126 127 128 130 131 132 133] \n",
            "\n",
            "Test Index:  [  4   7  15  20  22  31  34  37  39  42  43  47  49  51  63  67  72  75\n",
            "  85  90  95 102 104 107 116 129]\n",
            "Logistic Reg.  scores: 0.5284900284900285\n",
            "Decision Tree scores: 0.48433048433048426\n",
            "Random Forest scores: 0.4621082621082621\n",
            "SVM scores: 0.27521367521367524\n"
          ],
          "name": "stdout"
        },
        {
          "output_type": "stream",
          "text": [
            "C:\\Users\\FAZLY\\AppData\\Local\\Continuum\\anaconda3\\lib\\site-packages\\sklearn\\svm\\base.py:196: FutureWarning: The default value of gamma will change from 'auto' to 'scale' in version 0.22 to account better for unscaled features. Set gamma explicitly to 'auto' or 'scale' to avoid this warning.\n",
            "  \"avoid this warning.\", FutureWarning)\n",
            "C:\\Users\\FAZLY\\AppData\\Local\\Continuum\\anaconda3\\lib\\site-packages\\sklearn\\linear_model\\logistic.py:433: FutureWarning: Default solver will be changed to 'lbfgs' in 0.22. Specify a solver to silence this warning.\n",
            "  FutureWarning)\n",
            "C:\\Users\\FAZLY\\AppData\\Local\\Continuum\\anaconda3\\lib\\site-packages\\sklearn\\linear_model\\logistic.py:460: FutureWarning: Default multi_class will be changed to 'auto' in 0.22. Specify the multi_class option to silence this warning.\n",
            "  \"this warning.\", FutureWarning)\n",
            "C:\\Users\\FAZLY\\AppData\\Local\\Continuum\\anaconda3\\lib\\site-packages\\sklearn\\svm\\base.py:196: FutureWarning: The default value of gamma will change from 'auto' to 'scale' in version 0.22 to account better for unscaled features. Set gamma explicitly to 'auto' or 'scale' to avoid this warning.\n",
            "  \"avoid this warning.\", FutureWarning)\n"
          ],
          "name": "stderr"
        }
      ]
    },
    {
      "cell_type": "code",
      "metadata": {
        "id": "hudcDMfaIjlU",
        "colab_type": "code",
        "outputId": "5234a8c1-8b8f-428b-d795-0a0e39700601",
        "colab": {}
      },
      "source": [
        "import pandas as pd\n",
        "import numpy as np\n",
        "from sklearn.metrics import accuracy_score, confusion_matrix\n",
        "from sklearn.ensemble import RandomForestClassifier\n",
        "from sklearn import svm\n",
        "from sklearn.model_selection import cross_val_score\n",
        "#read csv file\n",
        "x = df[['MONTH','YEAR','HUMIDITY', 'MIN', 'RAINFALL', 'MAX']]\n",
        "y = df['LEVEL']\n",
        "\n",
        "model = svm.SVC()\n",
        "accuracy = cross_val_score(model, x, y, scoring='accuracy', cv = 11)\n",
        "print(accuracy)\n",
        "#get the mean of each fold \n",
        "print(\"Accuracy of Model with Cross Validation is:\",accuracy.mean() * 100)"
      ],
      "execution_count": 0,
      "outputs": [
        {
          "output_type": "stream",
          "text": [
            "C:\\Users\\FAZLY\\AppData\\Local\\Continuum\\anaconda3\\lib\\site-packages\\sklearn\\model_selection\\_split.py:652: Warning: The least populated class in y has only 4 members, which is too few. The minimum number of members in any class cannot be less than n_splits=11.\n",
            "  % (min_groups, self.n_splits)), Warning)\n",
            "C:\\Users\\FAZLY\\AppData\\Local\\Continuum\\anaconda3\\lib\\site-packages\\sklearn\\svm\\base.py:196: FutureWarning: The default value of gamma will change from 'auto' to 'scale' in version 0.22 to account better for unscaled features. Set gamma explicitly to 'auto' or 'scale' to avoid this warning.\n",
            "  \"avoid this warning.\", FutureWarning)\n",
            "C:\\Users\\FAZLY\\AppData\\Local\\Continuum\\anaconda3\\lib\\site-packages\\sklearn\\svm\\base.py:196: FutureWarning: The default value of gamma will change from 'auto' to 'scale' in version 0.22 to account better for unscaled features. Set gamma explicitly to 'auto' or 'scale' to avoid this warning.\n",
            "  \"avoid this warning.\", FutureWarning)\n",
            "C:\\Users\\FAZLY\\AppData\\Local\\Continuum\\anaconda3\\lib\\site-packages\\sklearn\\svm\\base.py:196: FutureWarning: The default value of gamma will change from 'auto' to 'scale' in version 0.22 to account better for unscaled features. Set gamma explicitly to 'auto' or 'scale' to avoid this warning.\n",
            "  \"avoid this warning.\", FutureWarning)\n",
            "C:\\Users\\FAZLY\\AppData\\Local\\Continuum\\anaconda3\\lib\\site-packages\\sklearn\\svm\\base.py:196: FutureWarning: The default value of gamma will change from 'auto' to 'scale' in version 0.22 to account better for unscaled features. Set gamma explicitly to 'auto' or 'scale' to avoid this warning.\n",
            "  \"avoid this warning.\", FutureWarning)\n",
            "C:\\Users\\FAZLY\\AppData\\Local\\Continuum\\anaconda3\\lib\\site-packages\\sklearn\\svm\\base.py:196: FutureWarning: The default value of gamma will change from 'auto' to 'scale' in version 0.22 to account better for unscaled features. Set gamma explicitly to 'auto' or 'scale' to avoid this warning.\n",
            "  \"avoid this warning.\", FutureWarning)\n",
            "C:\\Users\\FAZLY\\AppData\\Local\\Continuum\\anaconda3\\lib\\site-packages\\sklearn\\svm\\base.py:196: FutureWarning: The default value of gamma will change from 'auto' to 'scale' in version 0.22 to account better for unscaled features. Set gamma explicitly to 'auto' or 'scale' to avoid this warning.\n",
            "  \"avoid this warning.\", FutureWarning)\n",
            "C:\\Users\\FAZLY\\AppData\\Local\\Continuum\\anaconda3\\lib\\site-packages\\sklearn\\svm\\base.py:196: FutureWarning: The default value of gamma will change from 'auto' to 'scale' in version 0.22 to account better for unscaled features. Set gamma explicitly to 'auto' or 'scale' to avoid this warning.\n",
            "  \"avoid this warning.\", FutureWarning)\n",
            "C:\\Users\\FAZLY\\AppData\\Local\\Continuum\\anaconda3\\lib\\site-packages\\sklearn\\svm\\base.py:196: FutureWarning: The default value of gamma will change from 'auto' to 'scale' in version 0.22 to account better for unscaled features. Set gamma explicitly to 'auto' or 'scale' to avoid this warning.\n",
            "  \"avoid this warning.\", FutureWarning)\n"
          ],
          "name": "stderr"
        },
        {
          "output_type": "stream",
          "text": [
            "[0.26666667 0.33333333 0.66666667 0.5        0.5        0.45454545\n",
            " 0.63636364 0.63636364 0.6        0.4        0.4       ]\n",
            "Accuracy of Model with Cross Validation is: 49.03581267217631\n"
          ],
          "name": "stdout"
        },
        {
          "output_type": "stream",
          "text": [
            "C:\\Users\\FAZLY\\AppData\\Local\\Continuum\\anaconda3\\lib\\site-packages\\sklearn\\svm\\base.py:196: FutureWarning: The default value of gamma will change from 'auto' to 'scale' in version 0.22 to account better for unscaled features. Set gamma explicitly to 'auto' or 'scale' to avoid this warning.\n",
            "  \"avoid this warning.\", FutureWarning)\n",
            "C:\\Users\\FAZLY\\AppData\\Local\\Continuum\\anaconda3\\lib\\site-packages\\sklearn\\svm\\base.py:196: FutureWarning: The default value of gamma will change from 'auto' to 'scale' in version 0.22 to account better for unscaled features. Set gamma explicitly to 'auto' or 'scale' to avoid this warning.\n",
            "  \"avoid this warning.\", FutureWarning)\n",
            "C:\\Users\\FAZLY\\AppData\\Local\\Continuum\\anaconda3\\lib\\site-packages\\sklearn\\svm\\base.py:196: FutureWarning: The default value of gamma will change from 'auto' to 'scale' in version 0.22 to account better for unscaled features. Set gamma explicitly to 'auto' or 'scale' to avoid this warning.\n",
            "  \"avoid this warning.\", FutureWarning)\n"
          ],
          "name": "stderr"
        }
      ]
    },
    {
      "cell_type": "code",
      "metadata": {
        "id": "IDEMO3NKIjlW",
        "colab_type": "code",
        "colab": {}
      },
      "source": [
        ""
      ],
      "execution_count": 0,
      "outputs": []
    },
    {
      "cell_type": "code",
      "metadata": {
        "id": "7pdUuj6RIjlY",
        "colab_type": "code",
        "colab": {}
      },
      "source": [
        ""
      ],
      "execution_count": 0,
      "outputs": []
    }
  ]
}